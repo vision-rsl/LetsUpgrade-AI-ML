{
 "cells": [
  {
   "cell_type": "markdown",
   "metadata": {},
   "source": [
    "# 1.\n",
    "\n",
    "#### Write a Python program to find the first 20 non-even prime natural numbers."
   ]
  },
  {
   "cell_type": "code",
   "execution_count": 12,
   "metadata": {},
   "outputs": [
    {
     "name": "stdout",
     "output_type": "stream",
     "text": [
      "[3, 5, 7, 11, 13, 17, 19, 23, 29, 31, 37, 41, 43, 47, 53, 59, 61, 67, 71, 73]\n"
     ]
    }
   ],
   "source": [
    "prime = []\n",
    "for num in range(2, 100):\n",
    "    for i in range(2, num):\n",
    "        if (num % i) == 0:\n",
    "            break\n",
    "    else:\n",
    "        if len(prime) == 20:\n",
    "            break\n",
    "        else:\n",
    "            if num % 2 !=0:\n",
    "                prime.append(num)\n",
    "print(prime)"
   ]
  },
  {
   "cell_type": "markdown",
   "metadata": {},
   "source": [
    "# 2.\n",
    "\n",
    "#### Write a Python program to implement 15 functions of string."
   ]
  },
  {
   "cell_type": "code",
   "execution_count": 10,
   "metadata": {},
   "outputs": [
    {
     "name": "stdout",
     "output_type": "stream",
     "text": [
      "len(): 11\n",
      "casefold(): letsupgrade\n",
      "replace(): LetzUpgrade\n",
      "count(): 2\n",
      "partition(): ('LetsUpgrade', '', '')\n",
      "swapcase(): lETSuPGRADE\n",
      "find(): 4\n",
      "islower(): False\n",
      "center(): ____LetsUpgrade_____\n",
      "join(): LetsUpgrade\n",
      "split(): ['LetsUpgrade']\n",
      "title(): Letsupgrade\n",
      "lower(): letsupgrade\n",
      "upper(): LETSUPGRADE\n",
      "isalpha(): True\n"
     ]
    }
   ],
   "source": [
    "txt = \"LetsUpgrade\"\n",
    "\n",
    "print(f'len(): {len(txt)}')\n",
    "print(f'casefold(): {txt.casefold()}')\n",
    "print(f'replace(): {txt.replace(\"s\", \"z\")}')\n",
    "print(f'count(): {txt.count(\"e\")}')\n",
    "print(f'partition(): {txt.partition(\" \")}')\n",
    "print(f'swapcase(): {txt.swapcase()}')\n",
    "print(f'find(): {txt.find(\"Up\")}')\n",
    "print(f'islower(): {txt.islower()}')\n",
    "print(f'center(): {txt.center(20, \"_\")}')\n",
    "print(f'join(): {\"_\".join(txt.split())}')\n",
    "print(f'split(): {txt.split()}')\n",
    "print(f'title(): {txt.title()}')\n",
    "print(f'lower(): {txt.lower()}')\n",
    "print(f'upper(): {txt.upper()}')\n",
    "print(f'isalpha(): {txt.isalpha()}')"
   ]
  },
  {
   "cell_type": "markdown",
   "metadata": {},
   "source": [
    "# 3\n",
    "#### Write a Python program to check if the given string is a Palindrome or Anagram or None of them. Display the message accordingly to the user.\n"
   ]
  },
  {
   "cell_type": "code",
   "execution_count": 8,
   "metadata": {},
   "outputs": [
    {
     "name": "stdout",
     "output_type": "stream",
     "text": [
      "'madam' is Palindrome\n",
      "'palindrome' and 'Ireland mop' are Anagram\n",
      "'soap' and 'pause' are neither Anagram nor 'soap' is Palindrome\n"
     ]
    }
   ],
   "source": [
    "\n",
    "def check(txt1, txt2):\n",
    "    if txt1 == txt1[::-1]:\n",
    "        print(f\"\\'{txt1}\\' is Palindrome\")\n",
    "    elif sorted(txt1) == sorted(txt2.lower().replace(' ', '')):\n",
    "        print(f\"\\'{txt1}\\' and \\'{txt2}\\' are Anagram\")\n",
    "    else:\n",
    "        print(f\"\\'{txt1}\\' and \\'{txt2}\\' are neither Anagram nor \\'{txt1}\\' is Palindrome\")\n",
    "\n",
    "\n",
    "check('madam', 'mama')\n",
    "check('palindrome', 'Ireland mop')\n",
    "check('soap', 'pause')"
   ]
  },
  {
   "cell_type": "markdown",
   "metadata": {},
   "source": [
    "# 4\n",
    "####  Write a Python's user defined function that removes all the additional characters from the string and converts it finally to lower case using built-in lower(). eg: If the string is \"Dr. Darshan Ingle @AI-ML Trainer\", then the output be \"drdarshaningleaimltrainer\"."
   ]
  },
  {
   "cell_type": "code",
   "execution_count": 15,
   "metadata": {},
   "outputs": [
    {
     "name": "stdout",
     "output_type": "stream",
     "text": [
      "drdarshaningleaimltrainer"
     ]
    }
   ],
   "source": [
    "string = 'Dr. Darshan Ingle @AI-ML Trainer'\n",
    "\n",
    "def remover(txt):\n",
    "    for i in txt.lower():\n",
    "        if i.isalpha():\n",
    "            print(i, end='')\n",
    "\n",
    "\n",
    "remover(string)"
   ]
  }
 ],
 "metadata": {
  "kernelspec": {
   "display_name": "Python 3",
   "language": "python",
   "name": "python3"
  },
  "language_info": {
   "codemirror_mode": {
    "name": "ipython",
    "version": 3
   },
   "file_extension": ".py",
   "mimetype": "text/x-python",
   "name": "python",
   "nbconvert_exporter": "python",
   "pygments_lexer": "ipython3",
   "version": "3.7.6"
  }
 },
 "nbformat": 4,
 "nbformat_minor": 4
}
