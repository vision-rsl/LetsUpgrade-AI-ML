{
 "cells": [
  {
   "cell_type": "markdown",
   "metadata": {},
   "source": [
    "# DAY 4 Assignment."
   ]
  },
  {
   "cell_type": "markdown",
   "metadata": {},
   "source": [
    "# 1.\n",
    "#### Research on whether addition, subtraction, multiplication, division, floor division and modulo operations be performed on complex numbers. Based on your study, implement a Python program to demonstrate these operations."
   ]
  },
  {
   "cell_type": "code",
   "execution_count": 11,
   "metadata": {},
   "outputs": [
    {
     "name": "stdout",
     "output_type": "stream",
     "text": [
      "Addition is :(10+20j)\n",
      "Subtraction is : (2+4j)\n",
      "Multiplication is : (-72+96j)\n",
      "Division is : (1.5+0j)\n",
      "\n",
      "Floor division and modulo operations cannot be performed on complex number\n"
     ]
    }
   ],
   "source": [
    "number1 = 6 + 12j\n",
    "number2 = 4 + 8j\n",
    "\n",
    "print(f\"Addition is :{number1+number2}\")\n",
    "print(f\"Subtraction is : {number1-number2}\")\n",
    "print(f\"Multiplication is : {number1*number2}\")\n",
    "print(f\"Division is : {number1/number2}\")\n",
    "#print(f\"Floor Division is {num1//num2}\")\n",
    "#print(f\"Modulo is {num1%num2}\")\n",
    "print(\"\\nFloor division and modulo operations cannot be performed on complex number\")"
   ]
  },
  {
   "cell_type": "markdown",
   "metadata": {},
   "source": [
    "# 2.\n",
    "#### Research on range() functions and its parameters. Create a markdown cell and write in your own words (no copy-paste from google please) what you understand about it. Implement a small program of your choice on the same.\n"
   ]
  },
  {
   "cell_type": "code",
   "execution_count": null,
   "metadata": {},
   "outputs": [],
   "source": [
    "# range() function is a python built-in function used to generate sequence of numbers.\n",
    "# range(start, stop, step)\n",
    "# Starts From the 'start' value entered prints till the \n",
    "# 'stop' value (but excludes the stop value), \n",
    "# 'step' gives the interval between them."
   ]
  },
  {
   "cell_type": "code",
   "execution_count": 17,
   "metadata": {},
   "outputs": [
    {
     "name": "stdout",
     "output_type": "stream",
     "text": [
      "Generating numbers from 0 to 100 divisible by 2 using range() function.\n",
      "2\n",
      "4\n",
      "6\n",
      "8\n",
      "10\n",
      "12\n",
      "14\n",
      "16\n",
      "18\n",
      "20\n",
      "22\n",
      "24\n",
      "26\n",
      "28\n",
      "30\n",
      "32\n",
      "34\n",
      "36\n",
      "38\n",
      "40\n",
      "42\n",
      "44\n",
      "46\n",
      "48\n",
      "50\n",
      "52\n",
      "54\n",
      "56\n",
      "58\n",
      "60\n",
      "62\n",
      "64\n",
      "66\n",
      "68\n",
      "70\n",
      "72\n",
      "74\n",
      "76\n",
      "78\n",
      "80\n",
      "82\n",
      "84\n",
      "86\n",
      "88\n",
      "90\n",
      "92\n",
      "94\n",
      "96\n",
      "98\n"
     ]
    }
   ],
   "source": [
    "print(\"Generating numbers from 0 to 100 divisible by 2 using range() function.\")\n",
    "for i in range(2, 100,2):\n",
    "    print(i)"
   ]
  },
  {
   "cell_type": "markdown",
   "metadata": {},
   "source": [
    "# 3\n",
    "\n",
    "#### Consider two numbers. Perform their subtraction and if the result of subtraction is greater than 25, print their multiplication result else print their division result.\n"
   ]
  },
  {
   "cell_type": "code",
   "execution_count": 20,
   "metadata": {},
   "outputs": [
    {
     "name": "stdout",
     "output_type": "stream",
     "text": [
      "Division :  1.0283400809716599\n"
     ]
    }
   ],
   "source": [
    "a = 254\n",
    "b = 247\n",
    "sub = a - b\n",
    "\n",
    "if sub > 25 :\n",
    "    print(\"Multiplication : \", a * b)\n",
    "else:\n",
    "    print(\"Division : \", a / b)"
   ]
  },
  {
   "cell_type": "markdown",
   "metadata": {},
   "source": [
    "# 4\n",
    "\n",
    "#### Consider a list of 10 elements of integer values. If the number in the list is divisible by 2, print the result as \"square of that number minus 2\"."
   ]
  },
  {
   "cell_type": "code",
   "execution_count": 26,
   "metadata": {},
   "outputs": [
    {
     "name": "stdout",
     "output_type": "stream",
     "text": [
      "Square of 2 minus 2 is: 2\n",
      "Square of 4 minus 2 is: 14\n",
      "Square of 6 minus 2 is: 34\n",
      "Square of 8 minus 2 is: 62\n",
      "Square of 10 minus 2 is: 98\n"
     ]
    }
   ],
   "source": [
    "list = [1, 2, 3, 4, 5, 6, 7, 8, 9, 10]\n",
    "for i in lst:\n",
    "    if i % 2 == 0:\n",
    "        print(f\"Square of {i} minus 2 is: {i**2-2}\")"
   ]
  },
  {
   "cell_type": "markdown",
   "metadata": {},
   "source": [
    "# 5\n",
    "\n",
    "#### Consider a list of 10 elements. Print all the elements in the list which are greater than 7 when that number is divided 2."
   ]
  },
  {
   "cell_type": "code",
   "execution_count": 32,
   "metadata": {},
   "outputs": [
    {
     "name": "stdout",
     "output_type": "stream",
     "text": [
      "Elementswhich are greater than 7 when after dividing by 2: \n",
      "63\n",
      "21\n",
      "81\n",
      "31\n",
      "21\n",
      "41\n",
      "20\n"
     ]
    }
   ],
   "source": [
    "list = [63, 21, 6, 81, 31, 21, 41, 5, 14, 20]\n",
    "print(\"Elementswhich are greater than 7 when after dividing by 2: \")\n",
    "for i in list:\n",
    "    if i/2 > 7:\n",
    "        print(i)"
   ]
  }
 ],
 "metadata": {
  "kernelspec": {
   "display_name": "Python 3",
   "language": "python",
   "name": "python3"
  },
  "language_info": {
   "codemirror_mode": {
    "name": "ipython",
    "version": 3
   },
   "file_extension": ".py",
   "mimetype": "text/x-python",
   "name": "python",
   "nbconvert_exporter": "python",
   "pygments_lexer": "ipython3",
   "version": "3.7.6"
  }
 },
 "nbformat": 4,
 "nbformat_minor": 4
}
