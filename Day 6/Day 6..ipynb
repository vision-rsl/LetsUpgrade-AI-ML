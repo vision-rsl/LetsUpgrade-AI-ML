{
 "cells": [
  {
   "cell_type": "markdown",
   "metadata": {},
   "source": [
    "# Question 1\n",
    "\n",
    "#### Assuming that we have some email addresses in the \"username@companyname.com\" format, please write program to print the company name of a given email address. Both user names and company names are composed of letters only.\n"
   ]
  },
  {
   "cell_type": "code",
   "execution_count": 15,
   "metadata": {},
   "outputs": [
    {
     "name": "stdout",
     "output_type": "stream",
     "text": [
      "Enter your Email Address: john@google.com\n",
      "Company name is: google\n"
     ]
    }
   ],
   "source": [
    "email = input(\"Enter your Email Address: \")\n",
    "\n",
    "x = email.split(\"@\")\n",
    "\n",
    "y=x[1].split(\".\")\n",
    "\n",
    "print(\"Company name is: \"+y[0])"
   ]
  },
  {
   "cell_type": "markdown",
   "metadata": {},
   "source": [
    "# Question 2\n",
    "\n",
    "#### Write a program that accepts a comma-separated sequence of words as input and prints the words in a comma separated sequence after sorting them alphabetically."
   ]
  },
  {
   "cell_type": "code",
   "execution_count": 34,
   "metadata": {},
   "outputs": [
    {
     "name": "stdout",
     "output_type": "stream",
     "text": [
      "Enter the sequence with comma:without,hello,bag,world\n",
      "['bag', 'hello', 'without', 'world']\n"
     ]
    }
   ],
   "source": [
    "x = input(\"Enter the sequence with comma:\")\n",
    "\n",
    "y = x.split(\",\")\n",
    "\n",
    "z = sorted(y)\n",
    "print(z)"
   ]
  },
  {
   "cell_type": "markdown",
   "metadata": {},
   "source": [
    "# Question 3\n",
    "\n",
    "#### Create your own Jupyter Notebook for Sets."
   ]
  },
  {
   "cell_type": "markdown",
   "metadata": {},
   "source": [
    "# Sets\n",
    "\n",
    "### A set is a collection which is unordered and unindexed. In Python sets are written with curly brackets."
   ]
  },
  {
   "cell_type": "code",
   "execution_count": 36,
   "metadata": {},
   "outputs": [
    {
     "name": "stdout",
     "output_type": "stream",
     "text": [
      "{'apple', 'cherry', 'banana'}\n"
     ]
    }
   ],
   "source": [
    "#Example \n",
    "\n",
    "set1 = {\"apple\", \"banana\", \"cherry\"}\n",
    "print(set1)"
   ]
  },
  {
   "cell_type": "markdown",
   "metadata": {},
   "source": [
    "# Access Items\n",
    "### You cannot access items in a set by referring to an index, since sets are unordered the items has no index. But you can loop through the set items using a ___for___ loop, or ask if a specified value is present in a set, by using the ___in___ keyword."
   ]
  },
  {
   "cell_type": "code",
   "execution_count": 37,
   "metadata": {},
   "outputs": [
    {
     "name": "stdout",
     "output_type": "stream",
     "text": [
      "apple\n",
      "cherry\n",
      "banana\n"
     ]
    }
   ],
   "source": [
    "# Example using previous set\n",
    "\n",
    "for x in set1:\n",
    "    print(x)"
   ]
  },
  {
   "cell_type": "code",
   "execution_count": 38,
   "metadata": {},
   "outputs": [
    {
     "name": "stdout",
     "output_type": "stream",
     "text": [
      "True\n"
     ]
    }
   ],
   "source": [
    "# Also check whether an element is present in the array or no\n",
    "\n",
    "print(\"apple\" in set1)"
   ]
  },
  {
   "cell_type": "markdown",
   "metadata": {},
   "source": [
    "# Change Items\n",
    "\n",
    "### To add one item to a set use the ___add()___ method.\n",
    "\n",
    "### To add more than one item to a set use the ___update()___ method."
   ]
  },
  {
   "cell_type": "code",
   "execution_count": 45,
   "metadata": {},
   "outputs": [
    {
     "name": "stdout",
     "output_type": "stream",
     "text": [
      "{'apple', 'cherry', 'banana', 'mango'}\n"
     ]
    }
   ],
   "source": [
    "# to add one element \n",
    "set2 = {\"apple\", \"banana\", \"cherry\"}\n",
    "\n",
    "set2.add(\"mango\")\n",
    "\n",
    "print(set2)"
   ]
  },
  {
   "cell_type": "code",
   "execution_count": 46,
   "metadata": {},
   "outputs": [
    {
     "name": "stdout",
     "output_type": "stream",
     "text": [
      "{'watermelon', 'apple', 'grapes', 'banana', 'cherry', 'mango'}\n"
     ]
    }
   ],
   "source": [
    "# to add multiple elememts\n",
    "\n",
    "set2.update([\"grapes\",\"watermelon\"])\n",
    "\n",
    "print(set2)"
   ]
  },
  {
   "cell_type": "markdown",
   "metadata": {},
   "source": [
    "# Get the length of the set\n",
    "\n",
    "### To determine how many items a set has, use the ___len()___ method."
   ]
  },
  {
   "cell_type": "code",
   "execution_count": 47,
   "metadata": {},
   "outputs": [
    {
     "name": "stdout",
     "output_type": "stream",
     "text": [
      "6\n"
     ]
    }
   ],
   "source": [
    "print(len(set2))"
   ]
  },
  {
   "cell_type": "markdown",
   "metadata": {},
   "source": [
    "# Remove Item\n",
    "\n",
    "### To remove an item in a set, use the ___remove()___, or the ___discard()___ method."
   ]
  },
  {
   "cell_type": "code",
   "execution_count": 51,
   "metadata": {},
   "outputs": [
    {
     "name": "stdout",
     "output_type": "stream",
     "text": [
      "{'watermelon', 'apple', 'grapes', 'banana', 'cherry'}\n"
     ]
    }
   ],
   "source": [
    "set3 = {'watermelon', 'apple', 'grapes', 'banana', 'cherry', 'mango'}\n",
    "\n",
    "set3.remove('mango')\n",
    "\n",
    "print(set3)\n",
    "\n",
    "# Note: If the item to remove does not exist, remove() will raise an error."
   ]
  },
  {
   "cell_type": "code",
   "execution_count": 53,
   "metadata": {},
   "outputs": [
    {
     "name": "stdout",
     "output_type": "stream",
     "text": [
      "{'watermelon', 'apple', 'grapes', 'banana', 'cherry'}\n",
      "{'watermelon', 'apple', 'grapes', 'banana', 'cherry'}\n"
     ]
    }
   ],
   "source": [
    "set4 = {'watermelon', 'apple', 'grapes', 'banana', 'cherry', 'mango'}\n",
    "\n",
    "set4.discard('mango')\n",
    "\n",
    "print(set4)\n",
    "\n",
    "set4.discard('lemon')\n",
    "print(set4)"
   ]
  },
  {
   "cell_type": "code",
   "execution_count": 55,
   "metadata": {},
   "outputs": [
    {
     "name": "stdout",
     "output_type": "stream",
     "text": [
      "watermelon\n",
      "{'apple', 'grapes', 'banana', 'cherry', 'mango'}\n"
     ]
    }
   ],
   "source": [
    "# Remove the last item by using the pop() method:\n",
    "# Remember that sets are unordered, so you will not know what item that gets removed.\n",
    "\n",
    "set5 = {'watermelon', 'apple', 'grapes', 'banana', 'cherry', 'mango'}\n",
    "\n",
    "x = set5.pop()\n",
    "\n",
    "print(x)\n",
    "\n",
    "print(set5)"
   ]
  },
  {
   "cell_type": "markdown",
   "metadata": {},
   "source": [
    "# Clear\n",
    "\n",
    "### The clear() method empties the set:"
   ]
  },
  {
   "cell_type": "code",
   "execution_count": 57,
   "metadata": {},
   "outputs": [
    {
     "name": "stdout",
     "output_type": "stream",
     "text": [
      "set()\n"
     ]
    }
   ],
   "source": [
    "set6 = {'watermelon', 'apple', 'grapes', 'banana', 'cherry', 'mango'}\n",
    "\n",
    "set6.clear()\n",
    "\n",
    "print(set6)"
   ]
  },
  {
   "cell_type": "markdown",
   "metadata": {},
   "source": [
    "# Delete\n",
    "\n",
    "### The del keyword will delete the set completely:"
   ]
  },
  {
   "cell_type": "code",
   "execution_count": 59,
   "metadata": {},
   "outputs": [],
   "source": [
    "set7 = {'watermelon', 'apple', 'grapes', 'banana', 'cherry', 'mango'}\n",
    "\n",
    "del set7\n",
    "\n",
    "# print(set7)\n",
    "# gives error as set is deleted. "
   ]
  },
  {
   "cell_type": "markdown",
   "metadata": {},
   "source": [
    "# Join Two Sets\n",
    "\n",
    "### The union() method returns a new set with all items from both sets:"
   ]
  },
  {
   "cell_type": "code",
   "execution_count": 61,
   "metadata": {},
   "outputs": [
    {
     "name": "stdout",
     "output_type": "stream",
     "text": [
      "{1, 2, 'b', 3, 'c', 'a'}\n"
     ]
    }
   ],
   "source": [
    "set8 = {\"a\", \"b\" , \"c\"}\n",
    "set9 = {1, 2, 3}\n",
    "\n",
    "set10 = set8.union(set9)\n",
    "print(set10)\n",
    "\n",
    "# may be placed unordered way"
   ]
  },
  {
   "cell_type": "code",
   "execution_count": 62,
   "metadata": {},
   "outputs": [
    {
     "name": "stdout",
     "output_type": "stream",
     "text": [
      "{1, 2, 'b', 3, 'c', 'a'}\n"
     ]
    }
   ],
   "source": [
    "# The update() method inserts the items in set2 into set1:\n",
    "\n",
    "set11 = {\"a\", \"b\" , \"c\"}\n",
    "set12 = {1, 2, 3}\n",
    "\n",
    "set11.update(set12)\n",
    "print(set11)\n"
   ]
  },
  {
   "cell_type": "markdown",
   "metadata": {},
   "source": [
    "## Both union() and update() will exclude any duplicate items."
   ]
  },
  {
   "cell_type": "markdown",
   "metadata": {},
   "source": [
    "# Question 4"
   ]
  },
  {
   "cell_type": "code",
   "execution_count": 6,
   "metadata": {},
   "outputs": [
    {
     "name": "stdout",
     "output_type": "stream",
     "text": [
      "Please enter number ranging from 1 to n 1 2 5\n",
      "Insert the number of elements missing2\n",
      "Missing numbers are 3\n",
      "Missing numbers are 4\n"
     ]
    }
   ],
   "source": [
    "seq1=input(\"Please enter number ranging from 1 to n \")\n",
    "\n",
    "ru =input(\"Insert the number of elements missing\")\n",
    "x=len(seq1)\n",
    "a=seq1.split(\" \")\n",
    "\n",
    "n=len(a)+int(ru)\n",
    "r=list(range(1,n))\n",
    "\n",
    "strr=str(r)\n",
    "strr1=list(rr)\n",
    "\n",
    "emp=[]\n",
    "for i in strr1:\n",
    "    if i not in a:\n",
    "        emp.append(i)\n",
    "\n",
    "l2=[\"[\",\"]\",\",\",\" \"]\n",
    "for i in emp:\n",
    "    if i in l2:\n",
    "        pass\n",
    "    else:\n",
    "        print(\"Missing numbers are \"+i)"
   ]
  },
  {
   "cell_type": "markdown",
   "metadata": {},
   "source": [
    "# Question 5\n",
    "\n",
    "### With a given list L, write a program to print this list L after removing all duplicate values with original order reserved."
   ]
  },
  {
   "cell_type": "code",
   "execution_count": 12,
   "metadata": {},
   "outputs": [
    {
     "name": "stdout",
     "output_type": "stream",
     "text": [
      "12 24 35 24\n",
      "['12', '24', '35']\n"
     ]
    }
   ],
   "source": [
    "mylist = input()\n",
    "mylist1 = mylist.split()\n",
    "mylist1 = list(dict.fromkeys(mylist1))\n",
    "print(mylist1)"
   ]
  }
 ],
 "metadata": {
  "kernelspec": {
   "display_name": "Python 3",
   "language": "python",
   "name": "python3"
  },
  "language_info": {
   "codemirror_mode": {
    "name": "ipython",
    "version": 3
   },
   "file_extension": ".py",
   "mimetype": "text/x-python",
   "name": "python",
   "nbconvert_exporter": "python",
   "pygments_lexer": "ipython3",
   "version": "3.7.6"
  }
 },
 "nbformat": 4,
 "nbformat_minor": 4
}
