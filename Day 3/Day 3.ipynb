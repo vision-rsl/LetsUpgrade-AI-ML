{
 "cells": [
  {
   "cell_type": "markdown",
   "metadata": {},
   "source": [
    "# Day 3 Assignment "
   ]
  },
  {
   "cell_type": "markdown",
   "metadata": {},
   "source": [
    "# 1\n",
    "#### Write a program to subtract two complex numbers in Python."
   ]
  },
  {
   "cell_type": "code",
   "execution_count": 7,
   "metadata": {},
   "outputs": [
    {
     "name": "stdout",
     "output_type": "stream",
     "text": [
      "Subtraction of complex numbers (4+15j) and (6+10j) is (-2+5j)\n"
     ]
    }
   ],
   "source": [
    "a = 4+15j\n",
    "b = 6+10j\n",
    "print(f'Subtraction of complex numbers {a} and {b} is {a-b}')"
   ]
  },
  {
   "cell_type": "markdown",
   "metadata": {},
   "source": [
    "# 2\n",
    "#### Write a program to find the fourth root of a number.\n"
   ]
  },
  {
   "cell_type": "code",
   "execution_count": 22,
   "metadata": {},
   "outputs": [
    {
     "data": {
      "text/plain": [
       "4.0"
      ]
     },
     "execution_count": 22,
     "metadata": {},
     "output_type": "execute_result"
    }
   ],
   "source": [
    "a=256\n",
    "pow (a,(1/4))"
   ]
  },
  {
   "cell_type": "markdown",
   "metadata": {},
   "source": [
    "# 3\n",
    "#### Write a program to swap two numbers in Python with the help of a temporary variable"
   ]
  },
  {
   "cell_type": "code",
   "execution_count": 19,
   "metadata": {},
   "outputs": [
    {
     "name": "stdout",
     "output_type": "stream",
     "text": [
      "a= 5 b= 3\n"
     ]
    }
   ],
   "source": [
    "a=3\n",
    "b=5\n",
    "c=a\n",
    "a=b\n",
    "b=c\n",
    "print('a=',a,'b=',b)"
   ]
  },
  {
   "cell_type": "markdown",
   "metadata": {},
   "source": [
    "# 4\n",
    "#### Write a program to swap two numbers in Python without using a temporary variable"
   ]
  },
  {
   "cell_type": "code",
   "execution_count": 25,
   "metadata": {},
   "outputs": [
    {
     "name": "stdout",
     "output_type": "stream",
     "text": [
      "a= 5 b= 3\n"
     ]
    }
   ],
   "source": [
    "a=3\n",
    "b=5\n",
    "b=a+b\n",
    "a=b-a\n",
    "b=b-a\n",
    "print('a=',a,'b=',b)"
   ]
  },
  {
   "cell_type": "markdown",
   "metadata": {},
   "source": [
    "# 5\n",
    "#### Write a program to convert fahrenheit to kelvin and celsius both.\n"
   ]
  },
  {
   "cell_type": "code",
   "execution_count": 33,
   "metadata": {},
   "outputs": [
    {
     "name": "stdout",
     "output_type": "stream",
     "text": [
      "Kelvin =  260.92555555555555\n",
      "Celsius= -12.222222222222221\n"
     ]
    }
   ],
   "source": [
    "Fahrenheit=10 \n",
    "Kelvin = (5/9*Fahrenheit)+255.37\n",
    "print('Kelvin = ',Kelvin)\n",
    "Celsius = (Fahrenheit-32)*5/9\n",
    "print('Celsius=',Celsius)\n"
   ]
  },
  {
   "cell_type": "markdown",
   "metadata": {},
   "source": [
    "# 6\n",
    "#### Write a program to demonstrate all the available data types in Python. Hint: Use type() function.\n"
   ]
  },
  {
   "cell_type": "code",
   "execution_count": 9,
   "metadata": {},
   "outputs": [
    {
     "name": "stdout",
     "output_type": "stream",
     "text": [
      "<class 'int'>\n",
      "<class 'float'>\n",
      "<class 'str'>\n",
      "<class 'complex'>\n",
      "<class 'list'>\n",
      "<class 'tuple'>\n",
      "<class 'dict'>\n",
      "<class 'set'>\n",
      "<class 'bool'>\n",
      "<class 'range'>\n",
      "<class 'frozenset'>\n",
      "<class 'bytes'>\n",
      "<class 'bytearray'>\n",
      "<class 'memoryview'>\n"
     ]
    }
   ],
   "source": [
    "a = 10\n",
    "print(type(a))\n",
    "b = 10.5\n",
    "print(type(b))\n",
    "c = 'mnbvcx'\n",
    "print(type(c))\n",
    "d = 3 + 5j\n",
    "print(type(d))\n",
    "e = [1,2,3,4,5,'r','s']\n",
    "print(type(e))\n",
    "f = (1,2,3,4,5,'e','f')\n",
    "print(type(f))\n",
    "g = {'rsl1': 20, 'rsl2': 50}\n",
    "print(type(g))\n",
    "h = {'t1', 't2'}\n",
    "print(type(h))\n",
    "i = True\n",
    "print(type(i))\n",
    "j = range(10)\n",
    "print(type(j))\n",
    "k = frozenset({\"r\", \"s\", \"l\"})\n",
    "print(type(k))\n",
    "l = b'qwerty'\n",
    "print(type(l))\n",
    "m = bytearray(10)\n",
    "print(type(m))\n",
    "n = memoryview(bytes(10))\n",
    "print(type(n))"
   ]
  },
  {
   "cell_type": "markdown",
   "metadata": {},
   "source": [
    "# 7\n",
    "#### Create a Markdown cell in jupyter and list the steps discussed in the session by Dr. Darshan Ingle sir to create Github profile and upload Githubs Assignment link."
   ]
  },
  {
   "cell_type": "markdown",
   "metadata": {},
   "source": [
    "# List of Steps Discussed\n",
    "\n",
    "#### 1.Register on GitHub\n",
    "#### 2.Make a new Repository(by Clicking on new)\n",
    "#### 3.Name it as LetsUpgrade AI-ML and keep the repository public\n",
    "#### 4.Add the folder with the file of respective days in the repository \n",
    "#### 5.Share the respective code link in the provided Google Form"
   ]
  }
 ],
 "metadata": {
  "kernelspec": {
   "display_name": "Python 3",
   "language": "python",
   "name": "python3"
  },
  "language_info": {
   "codemirror_mode": {
    "name": "ipython",
    "version": 3
   },
   "file_extension": ".py",
   "mimetype": "text/x-python",
   "name": "python",
   "nbconvert_exporter": "python",
   "pygments_lexer": "ipython3",
   "version": "3.7.6"
  }
 },
 "nbformat": 4,
 "nbformat_minor": 4
}
