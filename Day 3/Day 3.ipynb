{
 "cells": [
  {
   "cell_type": "code",
   "execution_count": 9,
   "metadata": {},
   "outputs": [
    {
     "name": "stdout",
     "output_type": "stream",
     "text": [
      "Substraction is 5.0 + 5.0 j\n"
     ]
    }
   ],
   "source": [
    "complex0 = 7+ 9j\n",
    "complex1 = 2+ 4j\n",
    "\n",
    "a=complex0.real-complex1.real\n",
    "\n",
    "b=complex0.imag-complex1.imag\n",
    "\n",
    "print('Substraction is',a,'+',b,'j')"
   ]
  },
  {
   "cell_type": "code",
   "execution_count": 22,
   "metadata": {},
   "outputs": [
    {
     "data": {
      "text/plain": [
       "4.0"
      ]
     },
     "execution_count": 22,
     "metadata": {},
     "output_type": "execute_result"
    }
   ],
   "source": [
    "a=256\n",
    "pow (a,(1/4))"
   ]
  },
  {
   "cell_type": "code",
   "execution_count": 19,
   "metadata": {},
   "outputs": [
    {
     "name": "stdout",
     "output_type": "stream",
     "text": [
      "a= 5 b= 3\n"
     ]
    }
   ],
   "source": [
    "a=3\n",
    "b=5\n",
    "c=a\n",
    "a=b\n",
    "b=c\n",
    "print('a=',a,'b=',b)"
   ]
  },
  {
   "cell_type": "code",
   "execution_count": 25,
   "metadata": {},
   "outputs": [
    {
     "name": "stdout",
     "output_type": "stream",
     "text": [
      "a= 5 b= 3\n"
     ]
    }
   ],
   "source": [
    "a=3\n",
    "b=5\n",
    "b=a+b\n",
    "a=b-a\n",
    "b=b-a\n",
    "print('a=',a,'b=',b)"
   ]
  },
  {
   "cell_type": "code",
   "execution_count": 33,
   "metadata": {},
   "outputs": [
    {
     "name": "stdout",
     "output_type": "stream",
     "text": [
      "Kelvin =  260.92555555555555\n",
      "Celsius= -12.222222222222221\n"
     ]
    }
   ],
   "source": [
    "Fahrenheit=10 \n",
    "Kelvin = (5/9*Fahrenheit)+255.37\n",
    "print('Kelvin = ',Kelvin)\n",
    "Celsius = (Fahrenheit-32)*5/9\n",
    "print('Celsius=',Celsius)\n"
   ]
  },
  {
   "cell_type": "code",
   "execution_count": 59,
   "metadata": {},
   "outputs": [
    {
     "name": "stdout",
     "output_type": "stream",
     "text": [
      "<class 'int'> <class 'float'> <class 'complex'> <class 'str'>\n"
     ]
    }
   ],
   "source": [
    "print(type(1),type(1.1),type(3.14j),type('hii'))"
   ]
  },
  {
   "cell_type": "markdown",
   "metadata": {},
   "source": [
    "# List of Steps Discussed\n",
    "\n",
    "### 1.Register on GitHub\n",
    "### 2.Make a new Repository(by Clicking on new)\n",
    "### 3.Name it as LetsUpgrade AI-ML and keep the repository public\n",
    "### 4.Add the folder with the file of respective days in the repository \n",
    "### 5.Share the respective code link in the provided Google Form"
   ]
  }
 ],
 "metadata": {
  "kernelspec": {
   "display_name": "Python 3",
   "language": "python",
   "name": "python3"
  },
  "language_info": {
   "codemirror_mode": {
    "name": "ipython",
    "version": 3
   },
   "file_extension": ".py",
   "mimetype": "text/x-python",
   "name": "python",
   "nbconvert_exporter": "python",
   "pygments_lexer": "ipython3",
   "version": "3.7.6"
  }
 },
 "nbformat": 4,
 "nbformat_minor": 4
}
