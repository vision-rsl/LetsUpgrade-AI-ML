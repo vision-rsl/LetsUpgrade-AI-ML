{
 "cells": [
  {
   "cell_type": "markdown",
   "metadata": {},
   "source": [
    "# 1. Create a 3x3x3 array with random values "
   ]
  },
  {
   "cell_type": "code",
   "execution_count": 1,
   "metadata": {},
   "outputs": [],
   "source": [
    "import numpy as np"
   ]
  },
  {
   "cell_type": "code",
   "execution_count": 2,
   "metadata": {},
   "outputs": [
    {
     "data": {
      "text/plain": [
       "array([[[0., 0., 0.],\n",
       "        [0., 0., 0.],\n",
       "        [0., 0., 0.]],\n",
       "\n",
       "       [[0., 0., 0.],\n",
       "        [0., 0., 0.],\n",
       "        [0., 0., 0.]],\n",
       "\n",
       "       [[0., 0., 0.],\n",
       "        [0., 0., 0.],\n",
       "        [0., 0., 0.]]])"
      ]
     },
     "execution_count": 2,
     "metadata": {},
     "output_type": "execute_result"
    }
   ],
   "source": [
    "a = np.zeros((3,3,3))\n",
    "a"
   ]
  },
  {
   "cell_type": "markdown",
   "metadata": {},
   "source": [
    "# 2.Create a 5x5 matrix with values 1,2,3,4 just below the diagonal"
   ]
  },
  {
   "cell_type": "code",
   "execution_count": 13,
   "metadata": {},
   "outputs": [
    {
     "data": {
      "text/plain": [
       "array([[0, 0, 0, 0, 0],\n",
       "       [1, 0, 0, 0, 0],\n",
       "       [0, 2, 0, 0, 0],\n",
       "       [0, 0, 3, 0, 0],\n",
       "       [0, 0, 0, 4, 0]])"
      ]
     },
     "execution_count": 13,
     "metadata": {},
     "output_type": "execute_result"
    }
   ],
   "source": [
    "x=np.diag(np.arange(4)+1,k=-1)\n",
    "x"
   ]
  },
  {
   "cell_type": "markdown",
   "metadata": {},
   "source": [
    "# 3.Create a 8x8 matrix and fill it with a checkerboard pattern"
   ]
  },
  {
   "cell_type": "code",
   "execution_count": 21,
   "metadata": {},
   "outputs": [
    {
     "data": {
      "text/plain": [
       "array([[0, 1, 0, 1, 0, 1, 0, 1],\n",
       "       [1, 0, 1, 0, 1, 0, 1, 0],\n",
       "       [0, 1, 0, 1, 0, 1, 0, 1],\n",
       "       [1, 0, 1, 0, 1, 0, 1, 0],\n",
       "       [0, 1, 0, 1, 0, 1, 0, 1],\n",
       "       [1, 0, 1, 0, 1, 0, 1, 0],\n",
       "       [0, 1, 0, 1, 0, 1, 0, 1],\n",
       "       [1, 0, 1, 0, 1, 0, 1, 0]])"
      ]
     },
     "execution_count": 21,
     "metadata": {},
     "output_type": "execute_result"
    }
   ],
   "source": [
    "x = np.zeros((8,8),dtype=int)\n",
    "\n",
    "x[1::2,::2] = 1\n",
    "x[::2,1::2] = 1\n",
    "x"
   ]
  },
  {
   "cell_type": "markdown",
   "metadata": {},
   "source": [
    "# 4. Normalize a 5x5 random matrix"
   ]
  },
  {
   "cell_type": "code",
   "execution_count": 23,
   "metadata": {},
   "outputs": [
    {
     "name": "stdout",
     "output_type": "stream",
     "text": [
      "[[0.56369729 0.95766712 0.56344589 0.87639078 0.40989422]\n",
      " [0.96925673 0.82616615 0.6973005  0.         0.31988942]\n",
      " [0.57492935 0.7813057  0.75932589 0.1904262  1.        ]\n",
      " [0.14413979 0.16491498 0.23064655 0.02391958 0.59632619]\n",
      " [0.73115496 0.0702252  0.83727622 0.99158318 0.05829999]]\n"
     ]
    }
   ],
   "source": [
    "a = np.random.random((5,5))\n",
    "amax, amin = a.max(), a.min()\n",
    "a= (a-amin)/(amax-amin)\n",
    "print (a)"
   ]
  },
  {
   "cell_type": "markdown",
   "metadata": {},
   "source": [
    "# 5.  How to find common values between two arrays?"
   ]
  },
  {
   "cell_type": "code",
   "execution_count": 32,
   "metadata": {},
   "outputs": [
    {
     "name": "stdout",
     "output_type": "stream",
     "text": [
      "x= [ 0 10  2  4  6]\n",
      "y= [10, 3, 4]\n",
      "Common values between two arrays are:\n",
      "[ 4 10]\n"
     ]
    }
   ],
   "source": [
    "x = np.array([0, 10, 2, 4, 6])\n",
    "print(\"x=\",array)\n",
    "y = [10, 3, 4]\n",
    "print(\"y=\",array1)\n",
    "print(\"Common values between two arrays are:\")\n",
    "print(np.intersect1d(x, y))"
   ]
  },
  {
   "cell_type": "markdown",
   "metadata": {},
   "source": [
    "# 6.How to get the dates of yesterday, today and tomorrow?"
   ]
  },
  {
   "cell_type": "code",
   "execution_count": 34,
   "metadata": {},
   "outputs": [
    {
     "name": "stdout",
     "output_type": "stream",
     "text": [
      "Yestraday was :  2020-07-26\n",
      "Today is :  2020-07-27\n",
      "Tomorrow will  be:  2020-07-28\n"
     ]
    }
   ],
   "source": [
    "yesterday = np.datetime64('today', 'D') - np.timedelta64(1, 'D')\n",
    "print(\"Yestraday was : \",yesterday)\n",
    "today     = np.datetime64('today', 'D')\n",
    "print(\"Today is : \",today)\n",
    "tomorrow  = np.datetime64('today', 'D') + np.timedelta64(1, 'D')\n",
    "print(\"Tomorrow will  be: \",tomorrow)\n"
   ]
  },
  {
   "cell_type": "markdown",
   "metadata": {},
   "source": [
    "# 7. Consider two random array A and B, check if they are equal"
   ]
  },
  {
   "cell_type": "code",
   "execution_count": 37,
   "metadata": {},
   "outputs": [
    {
     "name": "stdout",
     "output_type": "stream",
     "text": [
      "x1=  [1 1 1 1 0 0]\n",
      "y1= [0 0 1 1 1 0]\n",
      "Test \n",
      "False\n"
     ]
    }
   ],
   "source": [
    "x1 = np.random.randint(0,2,6)\n",
    "print(\"x1= \",x1)\n",
    "\n",
    "y1 = np.random.randint(0,2,6)\n",
    "print(\"y1=\",y1)\n",
    "\n",
    "print(\"Test \")\n",
    "array_equal = np.allclose(x1, y1)\n",
    "print(array_equal)\n"
   ]
  },
  {
   "cell_type": "markdown",
   "metadata": {},
   "source": [
    "# 8.Create random vector of size 10 and replace the maximum value by 0 "
   ]
  },
  {
   "cell_type": "code",
   "execution_count": 39,
   "metadata": {},
   "outputs": [
    {
     "name": "stdout",
     "output_type": "stream",
     "text": [
      "x=  [ 0 10  2  4  6]\n",
      "Maximum value replaced by 0: [0 0 2 4 6]\n"
     ]
    }
   ],
   "source": [
    "x = np.array([0, 10, 2, 4, 6])\n",
    "print(\"x= \",x)\n",
    "x[x.argmax()] = 0\n",
    "print(\"Maximum value replaced by 0:\",x)\n"
   ]
  },
  {
   "cell_type": "markdown",
   "metadata": {},
   "source": [
    "# 9. How to print all the values of an array?"
   ]
  },
  {
   "cell_type": "code",
   "execution_count": 43,
   "metadata": {},
   "outputs": [
    {
     "name": "stdout",
     "output_type": "stream",
     "text": [
      "[[0. 0. 0. 0.]\n",
      " [0. 0. 0. 0.]\n",
      " [0. 0. 0. 0.]\n",
      " [0. 0. 0. 0.]]\n"
     ]
    }
   ],
   "source": [
    "\n",
    "x = np.zeros((4, 4))\n",
    "print(x)\n"
   ]
  },
  {
   "cell_type": "markdown",
   "metadata": {},
   "source": [
    "# 10.Subtract the mean of each row of a matrix"
   ]
  },
  {
   "cell_type": "code",
   "execution_count": 46,
   "metadata": {},
   "outputs": [
    {
     "name": "stdout",
     "output_type": "stream",
     "text": [
      "x= \n",
      "\n",
      "[[0.17486386 0.64218135 0.55746575 0.43909169 0.52909322 0.29355087\n",
      "  0.00957702 0.91160222 0.65454588 0.80074857]\n",
      " [0.95584744 0.12468222 0.70675716 0.12409448 0.98695591 0.72474998\n",
      "  0.08145093 0.51515163 0.81497465 0.2274811 ]\n",
      " [0.09294256 0.0132496  0.66761674 0.4290222  0.41874488 0.09448433\n",
      "  0.69787048 0.66203152 0.19152019 0.68170324]\n",
      " [0.61660759 0.51640874 0.22356725 0.69764625 0.42083727 0.36038465\n",
      "  0.18127611 0.33537298 0.32363332 0.63931294]\n",
      " [0.96329224 0.23122458 0.51981296 0.01952012 0.06234474 0.22692318\n",
      "  0.51522358 0.55788696 0.44541493 0.15351003]]\n",
      "\n",
      "Subtract the mean of each row of the said matrix:\n",
      "\n",
      "[[-0.32640818  0.14090931  0.0561937  -0.06218035  0.02782118 -0.20772117\n",
      "  -0.49169503  0.41033018  0.15327384  0.29947652]\n",
      " [ 0.42963289 -0.40153233  0.18054261 -0.40212007  0.46074136  0.19853543\n",
      "  -0.44476362 -0.01106292  0.2887601  -0.29873345]\n",
      " [-0.30197601 -0.38166898  0.27269816  0.03410362  0.02382631 -0.30043425\n",
      "   0.30295191  0.26711295 -0.20339838  0.28678466]\n",
      " [ 0.18510288  0.08490403 -0.20793746  0.26614154 -0.01066744 -0.07112006\n",
      "  -0.2502286  -0.09613173 -0.10787139  0.20780824]\n",
      " [ 0.59377691 -0.13829075  0.15029762 -0.34999521 -0.30717059 -0.14259215\n",
      "   0.14570825  0.18837163  0.0758996  -0.21600531]]\n"
     ]
    }
   ],
   "source": [
    "import numpy as np\n",
    "print(\"x= \\n\")\n",
    "X = np.random.rand(5, 10)\n",
    "print(X)\n",
    "print(\"\\nSubtract the mean of each row of the said matrix:\\n\")\n",
    "Y =  X - X.mean(axis=1,  keepdims=True)\n",
    "print(Y)\n"
   ]
  },
  {
   "cell_type": "markdown",
   "metadata": {},
   "source": [
    "# 11.Consider a given vector, how to add 1 to each element indexed by a second vector (be careful with repeated indices)? "
   ]
  },
  {
   "cell_type": "code",
   "execution_count": 70,
   "metadata": {},
   "outputs": [
    {
     "name": "stdout",
     "output_type": "stream",
     "text": [
      "Z= [1. 1. 1. 1. 1. 1. 1. 1. 1. 1.]\n",
      "Sol.: [2. 5. 1. 4. 2. 1. 3. 4. 5. 3.]\n"
     ]
    }
   ],
   "source": [
    "Z = np.ones(10)\n",
    "print(\"Z=\",Z)\n",
    "A = np.random.randint(0,len(Z),20)\n",
    "Z += np.bincount(A, minlength=len(Z))\n",
    "print(\"Sol.:\",Z)"
   ]
  },
  {
   "cell_type": "code",
   "execution_count": null,
   "metadata": {},
   "outputs": [],
   "source": []
  },
  {
   "cell_type": "markdown",
   "metadata": {},
   "source": [
    "# 12.How to get the diagonal of a dot product?"
   ]
  },
  {
   "cell_type": "code",
   "execution_count": 71,
   "metadata": {},
   "outputs": [
    {
     "name": "stdout",
     "output_type": "stream",
     "text": [
      "dot product is= [3.95741096 4.50397316 2.03632232]\n"
     ]
    }
   ],
   "source": [
    "x = np.random.uniform(0,2,(3,3))\n",
    "y = np.random.uniform(0,2,(3,3))\n",
    "s=np.diag(np.dot(x,y))\n",
    "print(\"dot product is=\",s)"
   ]
  },
  {
   "cell_type": "markdown",
   "metadata": {},
   "source": [
    "\n",
    "# 13.How to find the most frequent value in an array?"
   ]
  },
  {
   "cell_type": "code",
   "execution_count": 74,
   "metadata": {},
   "outputs": [
    {
     "name": "stdout",
     "output_type": "stream",
     "text": [
      "a= [8 2 5 2 1 7 2 7 7 9 0 9 3 8 6 9 2 4 2 1]\n",
      "most frequent value= 2\n"
     ]
    }
   ],
   "source": [
    "a = np.random.randint(0,10,20)\n",
    "print(\"a=\",a)\n",
    "print(\"most frequent value=\",np.bincount(a).argmax())"
   ]
  },
  {
   "cell_type": "markdown",
   "metadata": {},
   "source": [
    "# 14.How to get the n largest values of an array"
   ]
  },
  {
   "cell_type": "code",
   "execution_count": 84,
   "metadata": {},
   "outputs": [
    {
     "name": "stdout",
     "output_type": "stream",
     "text": [
      "Original array:\n",
      "[0 1 2 3 4 5 6 7 8 9]\n",
      "[9]\n"
     ]
    }
   ],
   "source": [
    "x = np.arange(10)\n",
    "print(\"Original array:\")\n",
    "print(x)\n",
    "np.random.shuffle(x)\n",
    "n = 1\n",
    "print (x[np.argsort(x)[-n:]])"
   ]
  },
  {
   "cell_type": "markdown",
   "metadata": {},
   "source": [
    "# 15.How to create a record array from a regular array?"
   ]
  },
  {
   "cell_type": "code",
   "execution_count": 87,
   "metadata": {},
   "outputs": [
    {
     "name": "stdout",
     "output_type": "stream",
     "text": [
      "a=  [['Iron man' '88.5' '90']\n",
      " ['Captain' '87' '99']\n",
      " ['Thor' '85.5' '91']]\n",
      "\n",
      "Record array;\n",
      "[(b'Iron man', 88.5, 90) (b'Captain', 87. , 99) (b'Thor', 85.5, 91)]\n"
     ]
    }
   ],
   "source": [
    "a = np.array([(\"Iron man\", 88.5, 90),\n",
    "                 (\"Captain\", 87, 99),\n",
    "             (\"Thor\", 85.5, 91)])\n",
    "print(\"a= \",a)\n",
    "print(\"\\nRecord array;\")\n",
    "result = np.core.records.fromarrays(a.T,\n",
    "                              names='col1, col2, col3',\n",
    "                              formats = 'S80, f8, i8')\n",
    "print(result)"
   ]
  },
  {
   "cell_type": "code",
   "execution_count": null,
   "metadata": {},
   "outputs": [],
   "source": []
  }
 ],
 "metadata": {
  "kernelspec": {
   "display_name": "Python 3",
   "language": "python",
   "name": "python3"
  },
  "language_info": {
   "codemirror_mode": {
    "name": "ipython",
    "version": 3
   },
   "file_extension": ".py",
   "mimetype": "text/x-python",
   "name": "python",
   "nbconvert_exporter": "python",
   "pygments_lexer": "ipython3",
   "version": "3.7.6"
  }
 },
 "nbformat": 4,
 "nbformat_minor": 2
}
